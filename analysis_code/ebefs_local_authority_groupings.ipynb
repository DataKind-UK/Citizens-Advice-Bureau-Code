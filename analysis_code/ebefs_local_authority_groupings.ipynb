{
 "metadata": {
  "name": "",
  "signature": "sha256:8c92a0dafdf95437950dbc1cc2a1289a3fcd543fc9bf671d7afc84a7659a18b6"
 },
 "nbformat": 3,
 "nbformat_minor": 0,
 "worksheets": [
  {
   "cells": [
    {
     "cell_type": "code",
     "collapsed": false,
     "input": [
      "import pandas as pd"
     ],
     "language": "python",
     "metadata": {},
     "outputs": [],
     "prompt_number": 1
    },
    {
     "cell_type": "code",
     "collapsed": false,
     "input": [
      "import numpy as np"
     ],
     "language": "python",
     "metadata": {},
     "outputs": [],
     "prompt_number": 2
    },
    {
     "cell_type": "code",
     "collapsed": false,
     "input": [
      "import elasticsearch as es"
     ],
     "language": "python",
     "metadata": {},
     "outputs": [],
     "prompt_number": 3
    },
    {
     "cell_type": "code",
     "collapsed": false,
     "input": [
      "e = es.Elasticsearch([\"localhost:9200\"])"
     ],
     "language": "python",
     "metadata": {},
     "outputs": [],
     "prompt_number": 5
    },
    {
     "cell_type": "code",
     "collapsed": false,
     "input": [
      "e"
     ],
     "language": "python",
     "metadata": {},
     "outputs": [
      {
       "metadata": {},
       "output_type": "pyout",
       "prompt_number": 6,
       "text": [
        "<Elasticsearch([{'host': 'localhost', 'port': 9200}])>"
       ]
      }
     ],
     "prompt_number": 6
    },
    {
     "cell_type": "code",
     "collapsed": false,
     "input": [
      "las = e.search(index=\"ebefs\", doc_type=\"ebef\", \n",
      "         body = {\"size\":0,\n",
      "                \"query\": {\"match_all\":{}},\n",
      "                \"aggregations\": {\n",
      "                    \"la\": {\n",
      "                        \"terms\": {\n",
      "                            \"field\": \"local_authority\",\n",
      "                            \"size\":10000\n",
      "}\n",
      "}\n",
      "}\n",
      "}\n",
      "         \n",
      "         )"
     ],
     "language": "python",
     "metadata": {},
     "outputs": [],
     "prompt_number": 163
    },
    {
     "cell_type": "code",
     "collapsed": false,
     "input": [
      "las2 = las[\"aggregations\"][\"la\"][\"buckets\"]"
     ],
     "language": "python",
     "metadata": {},
     "outputs": [],
     "prompt_number": 165
    },
    {
     "cell_type": "code",
     "collapsed": false,
     "input": [
      "las_d = [(l[\"key\"],l[\"doc_count\"]) for l in las2]"
     ],
     "language": "python",
     "metadata": {},
     "outputs": [],
     "prompt_number": 166
    },
    {
     "cell_type": "code",
     "collapsed": false,
     "input": [
      "las_index = [l[\"key\"] for l in las2]"
     ],
     "language": "python",
     "metadata": {},
     "outputs": [],
     "prompt_number": 167
    },
    {
     "cell_type": "code",
     "collapsed": false,
     "input": [
      "df = pd.DataFrame(data=las_d, columns=[\"la\", \"total\"], index=las_index)"
     ],
     "language": "python",
     "metadata": {},
     "outputs": [],
     "prompt_number": 168
    },
    {
     "cell_type": "code",
     "collapsed": false,
     "input": [
      "df.to_csv(\"./data/ebefs_local_authorities.csv\")"
     ],
     "language": "python",
     "metadata": {},
     "outputs": [],
     "prompt_number": 33
    },
    {
     "cell_type": "code",
     "collapsed": false,
     "input": [
      "las_df = {}\n",
      "def query_to_df(q):\n",
      "    las = e.search(index=\"ebefs\", doc_type=\"ebef\", \n",
      "         body = {\"size\":0,\n",
      "                \"query\": {\"query_string\":{\"query\":\"key_sp_issue:\" + q}},\n",
      "                \"aggregations\": {\n",
      "                    \"la\": {\n",
      "                        \"terms\": {\n",
      "                            \"field\": \"local_authority\",\n",
      "                            \"size\":10000\n",
      "    }\n",
      "    }\n",
      "    }\n",
      "    }\n",
      "         \n",
      "             )[\"aggregations\"][\"la\"][\"buckets\"]\n",
      "    las_tuple = [(l[\"key\"],l[\"doc_count\"]) for l in las]\n",
      "    this_index = [l[\"key\"] for l in las]\n",
      "    las_df[q] = pd.DataFrame(index=this_index, data=las_tuple, columns=[\"la\", q])\n",
      "    df[q] = las_df[q][q] / df[\"total\"]\n",
      "    return"
     ],
     "language": "python",
     "metadata": {},
     "outputs": [],
     "prompt_number": 142
    },
    {
     "cell_type": "code",
     "collapsed": false,
     "input": [
      "query_to_df(\"housing\")"
     ],
     "language": "python",
     "metadata": {},
     "outputs": [],
     "prompt_number": 143
    },
    {
     "cell_type": "code",
     "collapsed": false,
     "input": [
      "query_to_df(\"abuse\")"
     ],
     "language": "python",
     "metadata": {},
     "outputs": [],
     "prompt_number": 174
    },
    {
     "cell_type": "code",
     "collapsed": false,
     "input": [
      "query_to_df('\"fuel poverty\"')"
     ],
     "language": "python",
     "metadata": {},
     "outputs": [],
     "prompt_number": 175
    },
    {
     "cell_type": "code",
     "collapsed": false,
     "input": [
      "query_to_df(\"divorce\")"
     ],
     "language": "python",
     "metadata": {},
     "outputs": [],
     "prompt_number": 176
    },
    {
     "cell_type": "code",
     "collapsed": false,
     "input": [
      "query_to_df(\"benefits\")"
     ],
     "language": "python",
     "metadata": {},
     "outputs": [],
     "prompt_number": 177
    },
    {
     "cell_type": "code",
     "collapsed": false,
     "input": [
      "query_to_df(\"housing\")"
     ],
     "language": "python",
     "metadata": {},
     "outputs": [],
     "prompt_number": 178
    },
    {
     "cell_type": "code",
     "collapsed": false,
     "input": [
      "query_to_df(\"jsa\")"
     ],
     "language": "python",
     "metadata": {},
     "outputs": [],
     "prompt_number": 179
    },
    {
     "cell_type": "code",
     "collapsed": false,
     "input": [
      "query_to_df(\"debt\")"
     ],
     "language": "python",
     "metadata": {},
     "outputs": [],
     "prompt_number": 180
    },
    {
     "cell_type": "code",
     "collapsed": false,
     "input": [
      "query_to_df(\"work\")"
     ],
     "language": "python",
     "metadata": {},
     "outputs": [],
     "prompt_number": 171
    },
    {
     "cell_type": "code",
     "collapsed": false,
     "input": [
      "query_to_df(\"child\")"
     ],
     "language": "python",
     "metadata": {},
     "outputs": [],
     "prompt_number": 172
    },
    {
     "cell_type": "code",
     "collapsed": false,
     "input": [
      "query_to_df(\"fuel\")"
     ],
     "language": "python",
     "metadata": {},
     "outputs": [],
     "prompt_number": 182
    },
    {
     "cell_type": "code",
     "collapsed": false,
     "input": [
      "query_to_df(\"pregnant\")"
     ],
     "language": "python",
     "metadata": {},
     "outputs": [],
     "prompt_number": 184
    },
    {
     "cell_type": "code",
     "collapsed": false,
     "input": [
      "df.to_csv(\"./data/ebefs_las_combined.csv\")"
     ],
     "language": "python",
     "metadata": {},
     "outputs": [],
     "prompt_number": 188
    },
    {
     "cell_type": "code",
     "collapsed": false,
     "input": [],
     "language": "python",
     "metadata": {},
     "outputs": []
    }
   ],
   "metadata": {}
  }
 ]
}