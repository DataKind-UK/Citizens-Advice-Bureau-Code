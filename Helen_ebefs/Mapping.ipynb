{
 "metadata": {
  "name": "",
  "signature": "sha256:f04918de5d2e5fbe3cd979399e5784c4b004c8a0d44d18141b26278047dd2383"
 },
 "nbformat": 3,
 "nbformat_minor": 0,
 "worksheets": [
  {
   "cells": [
    {
     "cell_type": "code",
     "collapsed": false,
     "input": [
      "import pandas as pd"
     ],
     "language": "python",
     "metadata": {},
     "outputs": [
      {
       "output_type": "stream",
       "stream": "stderr",
       "text": [
        "/Users/helenlramsden/Library/Enthought/Canopy_64bit/User/lib/python2.7/site-packages/pandas/io/excel.py:626: UserWarning: Installed openpyxl is not supported at this time. Use >=1.6.1 and <2.0.0.\n",
        "  .format(openpyxl_compat.start_ver, openpyxl_compat.stop_ver))\n"
       ]
      }
     ],
     "prompt_number": 1
    },
    {
     "cell_type": "code",
     "collapsed": false,
     "input": [
      "def merge_data_files(filenorm, filedata):\n",
      "    '''\n",
      "    Takes a file with local authority data and a file with census data and normalises\n",
      "    the local authority data to population size\n",
      "    Generates a new csv file\n",
      "    '''\n",
      "    df_census = pd.read_csv(filenorm, sep ='\\t', index_col='LA', thousands=',')\n",
      "    df_data = pd.read_csv(filedata, sep =',', index_col = 'LA')\n",
      "    df_data = df_data.drop('ID',1)\n",
      "    df_data_norm = df_data.join(df_census, how = 'inner')\n",
      "    df_data_norm['Percentage'] = df_data_norm['Quantity'].astype(float)*100/df_data_norm['Population'].astype(float)\n",
      "    df_data_norm.to_csv(\"../Data/\" + re.sub('.csv','', filedata) + \"_norm.csv\", sep =',')\n",
      "    print df_data_norm.head()\n",
      "    print df_data_norm.shape\n",
      "    print df_data_norm['Percentage'].sum()"
     ],
     "language": "python",
     "metadata": {},
     "outputs": [],
     "prompt_number": 37
    },
    {
     "cell_type": "code",
     "collapsed": false,
     "input": [
      "filenorm = \"../Data_public/Census_population.csv\"\n",
      "filedata = \"../Data/ebefs_local_authorities.csv\"\n",
      "filedata = \"../Data/ebefs_mapping/ebefs_la_unemployed.csv\"\n",
      "merge_data_files(filenorm, filedata)"
     ],
     "language": "python",
     "metadata": {},
     "outputs": [
      {
       "output_type": "stream",
       "stream": "stdout",
       "text": [
        "                Quantity  Population  Percentage\n",
        "LA                                              \n",
        "County Durham        151      513200    0.029423\n",
        "Darlington            19      105600    0.017992\n",
        "Hartlepool             2       92000    0.002174\n",
        "Middlesbrough         11      138400    0.007948\n",
        "Northumberland       123      316000    0.038924\n",
        "(314, 3)\n",
        "4.52902883446\n"
       ]
      }
     ],
     "prompt_number": 38
    },
    {
     "cell_type": "markdown",
     "metadata": {},
     "source": [
      "### Merge mapping data and ebefs data"
     ]
    },
    {
     "cell_type": "code",
     "collapsed": false,
     "input": [
      "# Load mapping data file\n",
      "df_map = pd.io.json.read_json(\"../Data_public/lad.json\")"
     ],
     "language": "python",
     "metadata": {},
     "outputs": []
    }
   ],
   "metadata": {}
  }
 ]
}
